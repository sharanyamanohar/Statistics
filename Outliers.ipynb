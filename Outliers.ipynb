{
 "cells": [
  {
   "cell_type": "markdown",
   "id": "d877442a",
   "metadata": {},
   "source": [
    "## Outliers "
   ]
  },
  {
   "cell_type": "markdown",
   "id": "54a58679",
   "metadata": {},
   "source": [
    "An outlier is a data point that differs significantly from other observations.\n",
    "eg.odd man out"
   ]
  },
  {
   "cell_type": "markdown",
   "id": "32b7bfde",
   "metadata": {},
   "source": [
    "## What do they affect "
   ]
  },
  {
   "cell_type": "code",
   "execution_count": 6,
   "id": "f0c6072a",
   "metadata": {},
   "outputs": [
    {
     "data": {
      "text/plain": [
       "20.083333333333332"
      ]
     },
     "execution_count": 6,
     "metadata": {},
     "output_type": "execute_result"
    }
   ],
   "source": [
    "#As Mean,Median,Mode helps us to describe the data\n",
    "import statistics as st\n",
    "sample= [15, 101, 18, 7, 13, 16, 11, 21, 5, 15, 10, 9]\n",
    "mean=st.mean(sample)\n",
    "mean"
   ]
  },
  {
   "cell_type": "code",
   "execution_count": 7,
   "id": "59c8f655",
   "metadata": {},
   "outputs": [
    {
     "data": {
      "text/plain": [
       "12.727272727272727"
      ]
     },
     "execution_count": 7,
     "metadata": {},
     "output_type": "execute_result"
    }
   ],
   "source": [
    "#Its mannual approach\n",
    "sample= [15, 18, 7, 13, 16, 11, 21, 5, 15, 10, 9]\n",
    "mean=st.mean(sample)\n",
    "mean"
   ]
  },
  {
   "cell_type": "markdown",
   "id": "59d7e746",
   "metadata": {},
   "source": [
    "## Techniques to detect the outliers "
   ]
  },
  {
   "cell_type": "markdown",
   "id": "c0134173",
   "metadata": {},
   "source": [
    "1)Boxplot\n",
    "2)z-score\n",
    "3)Inter Quantile Range(IQR)"
   ]
  },
  {
   "cell_type": "markdown",
   "id": "d07317a5",
   "metadata": {},
   "source": [
    "### Boxplot "
   ]
  },
  {
   "cell_type": "markdown",
   "id": "39a0b8e5",
   "metadata": {},
   "source": [
    "Boxplot-Box plot is the graphical representation of datasets that shows the distribution,central tendency and potential outliers within the data"
   ]
  },
  {
   "cell_type": "code",
   "execution_count": 51,
   "id": "df99fabf",
   "metadata": {},
   "outputs": [
    {
     "data": {
      "image/png": "[encoded data removed]",
      "text/plain": [
       "<Figure size 432x288 with 1 Axes>"
      ]
     },
     "metadata": {
      "needs_background": "light"
     },
     "output_type": "display_data"
    }
   ],
   "source": [
    "import matplotlib.pyplot as plt\n",
    "\n",
    "data_sample = [15, 18, 7, 13, 16, 11, 21, 5, 15, 10, 9]\n",
    "\n",
    "plt.boxplot(data_sample, vert=False, showfliers=True)\n",
    "\n",
    "plt.xlabel('Value')\n",
    "plt.title('Box Plot with Outliers')\n",
    "\n",
    "plt.show()"
   ]
  },
  {
   "cell_type": "markdown",
   "id": "63706629",
   "metadata": {},
   "source": [
    "### Z-score "
   ]
  },
  {
   "cell_type": "markdown",
   "id": "ce2b29a5",
   "metadata": {},
   "source": [
    "z-score-any data point whose Z-score falls out of 3rd standard deviation is an outlier.The Z-score measures how many standard deviations a data point is away from the mean.\n",
    "Steps:\n",
    "1)loop through all the data points and compute the Z-score using the formula (Xi-mean)/std.\n",
    "2)Define a threshold value of 3 and mark the datapoints whose absolute value of Z-score is greater than the threshold as outliers."
   ]
  },
  {
   "cell_type": "code",
   "execution_count": 21,
   "id": "efe208ee",
   "metadata": {},
   "outputs": [
    {
     "data": {
      "text/plain": [
       "[110]"
      ]
     },
     "execution_count": 21,
     "metadata": {},
     "output_type": "execute_result"
    }
   ],
   "source": [
    "import numpy as np\n",
    "sample= [15,110, 18, 7, 13, 16, 11, 21, 5, 15, 10, 9,50]\n",
    "outliers=[]\n",
    "m=np.mean(sample)#mean\n",
    "s=np.std(sample)#standard deviation\n",
    "t=3 #threshold\n",
    "for i in sample:\n",
    "    z=(i-m)/s\n",
    "    if (np.abs(z))>3:\n",
    "        outliers.append(i)\n",
    "outliers        "
   ]
  },
  {
   "cell_type": "markdown",
   "id": "bcead0ce",
   "metadata": {},
   "source": [
    "### Advantages & Disadvantages "
   ]
  },
  {
   "cell_type": "markdown",
   "id": "3c4e4d0d",
   "metadata": {},
   "source": [
    "#Advantages\n",
    "1)Standardization- Z-scores standardize the values, allowing you to compare the extent of deviation across different features, even if they have different units or scales.\n",
    "2)Quantitative threshold- You can set a threshold value (e.g., if the Z-score is above a certain value, it's considered an outlier), which provides a quantitative criterion for determining outliers.\n",
    "3)Statistical Foundation: Z-scores are based on the normal distribution and statistical theory, which can be beneficial when dealing with data that follows a roughly normal distribution."
   ]
  },
  {
   "cell_type": "code",
   "execution_count": 27,
   "id": "b3b1e6f1",
   "metadata": {},
   "outputs": [
    {
     "data": {
      "image/png": "[encoded data removed]",
      "text/plain": [
       "<Figure size 432x288 with 1 Axes>"
      ]
     },
     "metadata": {
      "needs_background": "light"
     },
     "output_type": "display_data"
    }
   ],
   "source": [
    "import matplotlib.pyplot as plt\n",
    "import numpy as np\n",
    "from scipy.stats import norm\n",
    "\n",
    "data = [1,2,3,4,5,6,7,8,9]\n",
    "\n",
    "plt.hist(data, bins=30, density=True, alpha=0.6, color='b')\n",
    "\n",
    "x_values = np.linspace(min(data), max(data), 100)\n",
    "y_values = norm.pdf(x_values, np.mean(data), np.std(data))\n",
    "plt.plot(x_values, y_values, 'r')\n",
    "\n",
    "plt.xlabel('Value')\n",
    "plt.ylabel('Probability Density')\n",
    "plt.title('Normal Distribution Plot')\n",
    "\n",
    "plt.show()"
   ]
  },
  {
   "cell_type": "markdown",
   "id": "e3edb57d",
   "metadata": {},
   "source": [
    "#Disadvantages\n",
    "\n",
    "1)Assumption of Normality: Z-score assumes that the data follows a normal distribution. If your data is not normally distributed, the Z-score may incorrectly identify points as outliers.\n",
    "\n",
    "2)Impact of Sample Size: The behavior of the Z-score can be affected by the size of the dataset. With small sample sizes, outliers may have a larger impact on the mean and standard deviation.\n",
    "\n",
    "3)Alternative Techniques Needed: Depending solely on Z-score might not be sufficient for complex datasets. Other techniques, like clustering-based or distance-based methods, might be needed to identify outliers that Z-score cannot capture effectively."
   ]
  },
  {
   "cell_type": "code",
   "execution_count": 46,
   "id": "b6876946",
   "metadata": {},
   "outputs": [
    {
     "name": "stdout",
     "output_type": "stream",
     "text": [
      "Indices of detected outliers: []\n"
     ]
    }
   ],
   "source": [
    "#Impact of sample size-Leads to falls positive due to small size\n",
    "import numpy as np\n",
    "from scipy.stats import zscore\n",
    "\n",
    "# Sample data with a small sample size\n",
    "data_small_sample = np.random.normal(loc=0, scale=1, size=10)\n",
    "\n",
    "z_scores = zscore(data_small_sample)\n",
    "outliers = np.where(np.abs(z_scores) > 2)[0]#threshold-hypertune\n",
    "\n",
    "print(\"Indices of detected outliers:\", outliers)"
   ]
  },
  {
   "cell_type": "markdown",
   "id": "d3eea383",
   "metadata": {},
   "source": [
    "Alternative techniques are required when dealing with complex datasets where Z-score, a simple statistical method, falls short due to its inability to uncover intricate patterns, trends, and relationships that evade straightforward recognition."
   ]
  },
  {
   "cell_type": "markdown",
   "id": "e4dd2760",
   "metadata": {},
   "source": [
    "## Inter Quartile range(IOR) "
   ]
  },
  {
   "cell_type": "markdown",
   "id": "4e22872a",
   "metadata": {},
   "source": [
    "The Interquartile Range (IQR) is a statistical measure that describes the spread or dispersion of a data set.\n",
    "Data points that lie 1.5 times of IQR above Q3 and below Q1 are outliers.\n",
    "\n",
    "*STEPS:\n",
    "Sort the dataset in ascending order\n",
    "calculate the 1st and 3rd quartiles(Q1, Q3)\n",
    "compute IQR=Q3-Q1\n",
    "compute lower bound = (Q1–1.5*IQR), upper bound = (Q3+1.5*IQR)\n",
    "loop through the values of the dataset and check for those who fall below the lower bound and above the upper bound and mark them as outliers"
   ]
  },
  {
   "cell_type": "code",
   "execution_count": 84,
   "id": "8d288321",
   "metadata": {},
   "outputs": [
    {
     "name": "stdout",
     "output_type": "stream",
     "text": [
      "101\n"
     ]
    }
   ],
   "source": [
    "sample= [15, 101, 18, 7, 13, 16, 11, 21, 15, 10, 9,5,8]\n",
    "sample=sorted(sample)\n",
    "q1 = np.percentile(sample, 25)\n",
    "q3 = np.percentile(sample, 75)\n",
    "IQR = q3-q1\n",
    "LB=q1-(1.5*IQR)\n",
    "UB=q3+(1.5*IQR)\n",
    "for i in sample:\n",
    "    if i<LB or i>UB:\n",
    "        print(i)"
   ]
  },
  {
   "cell_type": "markdown",
   "id": "39595796",
   "metadata": {},
   "source": [
    "## How to handle with outliers "
   ]
  },
  {
   "cell_type": "markdown",
   "id": "aa8730c8",
   "metadata": {},
   "source": [
    "1.Mean/Median imputation.\n",
    "\n",
    "2.Quantile based flooring and capping.\n",
    "\n",
    "3.Triming or removing the outliers"
   ]
  },
  {
   "cell_type": "code",
   "execution_count": 85,
   "id": "eaf7fc04",
   "metadata": {},
   "outputs": [
    {
     "data": {
      "image/png": "[encoded data removed]",
      "text/plain": [
       "<Figure size 720x432 with 2 Axes>"
      ]
     },
     "metadata": {
      "needs_background": "light"
     },
     "output_type": "display_data"
    }
   ],
   "source": [
    "import numpy as np\n",
    "import matplotlib.pyplot as plt\n",
    "\n",
    "# Original data\n",
    "sample = [15, 101, 18, 7, 13, 16, 11, 21, 15, 10, 9, 5, 8]\n",
    "\n",
    "# Calculate IQR\n",
    "q1 = np.percentile(sample, 25)\n",
    "q3 = np.percentile(sample, 75)\n",
    "IQR = q3 - q1\n",
    "\n",
    "# Calculate lower and upper bounds\n",
    "LB = q1 - (1.5 * IQR)\n",
    "UB = q3 + (1.5 * IQR)\n",
    "\n",
    "# Replace outliers with median value\n",
    "median_value = np.median(sample)\n",
    "outlier_removed = [x if LB <= x <= UB else median_value for x in sample]\n",
    "\n",
    "# Plot original and outlier-removed data\n",
    "plt.figure(figsize=(10, 6))\n",
    "\n",
    "plt.subplot(2, 1, 1)\n",
    "plt.boxplot(sample, vert=False)\n",
    "plt.title('Original Data with Outliers')\n",
    "\n",
    "plt.subplot(2, 1, 2)\n",
    "plt.boxplot(outlier_removed, vert=False)\n",
    "plt.title('Data with Outliers Removed')\n",
    "\n",
    "plt.tight_layout()\n",
    "plt.show()"
   ]
  }
 ],
 "metadata": {
  "kernelspec": {
   "display_name": "Python 3 (ipykernel)",
   "language": "python",
   "name": "python3"
  },
  "language_info": {
   "codemirror_mode": {
    "name": "ipython",
    "version": 3
   },
   "file_extension": ".py",
   "mimetype": "text/x-python",
   "name": "python",
   "nbconvert_exporter": "python",
   "pygments_lexer": "ipython3",
   "version": "3.9.12"
  }
 },
 "nbformat": 4,
 "nbformat_minor": 5
}
