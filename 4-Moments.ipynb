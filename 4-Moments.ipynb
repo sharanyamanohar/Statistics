{
 "cells": [
  {
   "cell_type": "markdown",
   "id": "4d56e59f",
   "metadata": {},
   "source": [
    "In statistics, moments are quantitative measures that describe the shape and characteristics of a probability distribution. "
   ]
  },
  {
   "cell_type": "markdown",
   "id": "f733339c",
   "metadata": {},
   "source": [
    "First Moment (Mean):\n",
    "\n",
    "The first moment is simply the mean of the distribution.μ=E[X]\n",
    "Second Central Moment (Variance):\n",
    "\n",
    "The second central moment is the expected value of the squared deviations from the mean.\n",
    "σ \n",
    "^2\n",
    " =E[(X−μ) \n",
    "^2\n",
    " ]\n",
    " \n",
    "Third Central Moment:\n",
    "The third central moment is a measure of the asymmetry (skewness) of the distribution.\n",
    "Skewness=E[(X−μ)^3]\n",
    "\n",
    "Fourth Central Moment:\n",
    "The fourth central moment is related to the tails of the distribution and is used to compute kurtosis.\n",
    "Kurtosis=E[(X−μ)^4]"
   ]
  },
  {
   "cell_type": "markdown",
   "id": "bc5ee859",
   "metadata": {},
   "source": [
    "1)First Moment (Mean):\n",
    "Describes the center or location of the distribution.\n",
    "Provides a measure of central tendency.\n",
    "\n",
    "2)Second Central Moment (Variance):\n",
    "Describes the spread or dispersion of the distribution.\n",
    "Provides a measure of how much individual data points differ from the mean.\n",
    "The square root of the variance is the standard deviation.\n",
    "\n",
    "3)Third Central Moment (Skewness):\n",
    "Describes the asymmetry of the distribution.\n",
    "Positive skewness indicates a longer right tail, and negative skewness indicates a longer left tail.\n",
    "A normal distribution has skewness close to zero.\n",
    "\n",
    "4)Fourth Central Moment (Kurtosis):\n",
    "Describes the tails and the \"peakedness\" of the distribution.\n",
    "Positive kurtosis (leptokurtic) indicates heavier tails and a sharper peak, potentially indicating more extreme values.\n",
    "Negative kurtosis (platykurtic) indicates lighter tails and a flatter peak."
   ]
  }
 ],
 "metadata": {
  "kernelspec": {
   "display_name": "Python 3 (ipykernel)",
   "language": "python",
   "name": "python3"
  },
  "language_info": {
   "codemirror_mode": {
    "name": "ipython",
    "version": 3
   },
   "file_extension": ".py",
   "mimetype": "text/x-python",
   "name": "python",
   "nbconvert_exporter": "python",
   "pygments_lexer": "ipython3",
   "version": "3.9.12"
  }
 },
 "nbformat": 4,
 "nbformat_minor": 5
}
