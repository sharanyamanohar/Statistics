{
 "cells": [
  {
   "cell_type": "markdown",
   "id": "cc3b0f9c",
   "metadata": {},
   "source": [
    "### Random sampling "
   ]
  },
  {
   "cell_type": "code",
   "execution_count": 3,
   "id": "0755187c",
   "metadata": {},
   "outputs": [
    {
     "name": "stdout",
     "output_type": "stream",
     "text": [
      "Random Sample: [2, 1, 5, 8, 4]\n"
     ]
    }
   ],
   "source": [
    "import random\n",
    "population = [1, 2, 3, 4, 5, 6, 7, 8, 9, 10]\n",
    "\n",
    "sample_size = 5#randomly picking 5 values\n",
    "\n",
    "# Perform random sampling without replacement\n",
    "sample = random.sample(population, sample_size)\n",
    "\n",
    "print(\"Random Sample:\", sample)"
   ]
  },
  {
   "cell_type": "markdown",
   "id": "6b5b8b9c",
   "metadata": {},
   "source": [
    "### Clustered sampling "
   ]
  },
  {
   "cell_type": "code",
   "execution_count": 4,
   "id": "06482d6a",
   "metadata": {},
   "outputs": [
    {
     "name": "stdout",
     "output_type": "stream",
     "text": [
      "Selected Clusters:\n",
      "[7, 8, 9]\n",
      "[10, 11, 12]\n"
     ]
    }
   ],
   "source": [
    "import random\n",
    "population = [\n",
    "    [1, 2, 3],\n",
    "    [4, 5, 6],\n",
    "    [7, 8, 9],\n",
    "    [10, 11, 12],\n",
    "]\n",
    "num_clusters_to_select = 2#randomly picing out 2 cluster\n",
    "\n",
    "# Perform random cluster sampling\n",
    "selected_clusters = random.sample(population, num_clusters_to_select)\n",
    "\n",
    "print(\"Selected Clusters:\")\n",
    "for cluster in selected_clusters:\n",
    "    print(cluster)\n"
   ]
  },
  {
   "cell_type": "markdown",
   "id": "87c62a90",
   "metadata": {},
   "source": [
    "### Systematic Sampling "
   ]
  },
  {
   "cell_type": "code",
   "execution_count": 11,
   "id": "4f536c0c",
   "metadata": {},
   "outputs": [
    {
     "name": "stdout",
     "output_type": "stream",
     "text": [
      "Systematic Sample: [3, 8]\n"
     ]
    }
   ],
   "source": [
    "import random\n",
    "population = [1, 2, 3, 4, 5, 6, 7, 8, 9, 10]\n",
    "\n",
    "sample_size = 2\n",
    "\n",
    "sampling_interval = len(population) // sample_size\n",
    "\n",
    "start_point = random.randint(0, sampling_interval - 1)\n",
    "sample = []\n",
    "\n",
    "\n",
    "for i in range(start_point, len(population), sampling_interval):\n",
    "    sample.append(population[i])\n",
    "print(\"Systematic Sample:\", sample)"
   ]
  },
  {
   "cell_type": "markdown",
   "id": "9b11a007",
   "metadata": {},
   "source": [
    "### Stratified Sampling "
   ]
  },
  {
   "cell_type": "code",
   "execution_count": 14,
   "id": "f2138118",
   "metadata": {},
   "outputs": [
    {
     "name": "stdout",
     "output_type": "stream",
     "text": [
      "Sample from Bag A: [38, 49, 25, 2, 50]\n",
      "Sample from Bag B: [36, 8, 50, 68, 78, 96, 97, 38, 16, 81]\n",
      "Sample from Bag C: [175, 82, 63, 157, 107, 140, 100, 179, 29, 27, 96, 159, 61, 24, 142, 48, 47, 86, 130, 102]\n"
     ]
    }
   ],
   "source": [
    "import random\n",
    "# Population\n",
    "A = 50\n",
    "B = 100\n",
    "C = 200\n",
    "\n",
    "# Sample\n",
    "a = 5\n",
    "b = 10\n",
    "c = 20\n",
    "\n",
    "_a = random.sample(range(1, A + 1),a)\n",
    "_b = random.sample(range(1, B + 1), b)\n",
    "_c = random.sample(range(1, C + 1), c)\n",
    "print(\"Sample from Bag A:\", _a)\n",
    "print(\"Sample from Bag B:\", _b)\n",
    "print(\"Sample from Bag C:\", _c)\n"
   ]
  },
  {
   "cell_type": "markdown",
   "id": "54fc35b7",
   "metadata": {},
   "source": [
    "### Convenient sampling "
   ]
  },
  {
   "cell_type": "code",
   "execution_count": 16,
   "id": "abd9d694",
   "metadata": {},
   "outputs": [
    {
     "name": "stdout",
     "output_type": "stream",
     "text": [
      "Convenience Sample: [10, 15, 20]\n"
     ]
    }
   ],
   "source": [
    "population = [10, 15, 20, 25, 30, 35, 40, 45, 50]\n",
    "sample_size = 3  # Sampling size\n",
    "convenience_sample = population[:sample_size]\n",
    "print(\"Convenience Sample:\", convenience_sample)"
   ]
  },
  {
   "cell_type": "markdown",
   "id": "6c9adc6a",
   "metadata": {},
   "source": [
    "### Consecutive sampling "
   ]
  },
  {
   "cell_type": "code",
   "execution_count": 17,
   "id": "deab76bf",
   "metadata": {},
   "outputs": [
    {
     "name": "stdout",
     "output_type": "stream",
     "text": [
      "Consecutive Sample: [10, 15, 20]\n"
     ]
    }
   ],
   "source": [
    "population = [10, 15, 20, 25, 30, 35, 40, 45, 50]\n",
    "sample_size = 3 \n",
    "\n",
    "consecutive_sample = []\n",
    "\n",
    "for i in range(sample_size):\n",
    "    consecutive_sample.append(population[i])\n",
    "\n",
    "print(\"Consecutive Sample:\", consecutive_sample)\n"
   ]
  }
 ],
 "metadata": {
  "kernelspec": {
   "display_name": "Python 3 (ipykernel)",
   "language": "python",
   "name": "python3"
  },
  "language_info": {
   "codemirror_mode": {
    "name": "ipython",
    "version": 3
   },
   "file_extension": ".py",
   "mimetype": "text/x-python",
   "name": "python",
   "nbconvert_exporter": "python",
   "pygments_lexer": "ipython3",
   "version": "3.9.12"
  }
 },
 "nbformat": 4,
 "nbformat_minor": 5
}
