{
 "cells": [
  {
   "cell_type": "markdown",
   "id": "37502953",
   "metadata": {},
   "source": [
    "Histogram-It is a graphical representation of data apperance is similar to bar-graph but it is continuous\n",
    "\n",
    "The towers or bars of a histogram are called bins. The height of each bin shows how many values from that data fall into that range. \n",
    "\n",
    "Bar width-> (max(values)-min(values))/bin_size\n",
    "\n",
    "*By default no.of bins in histogram will be 10"
   ]
  },
  {
   "cell_type": "code",
   "execution_count": 17,
   "id": "da0943bc",
   "metadata": {},
   "outputs": [
    {
     "data": {
      "image/png": "[encoded data removed]",
      "text/plain": [
       "<Figure size 432x288 with 1 Axes>"
      ]
     },
     "metadata": {
      "needs_background": "light"
     },
     "output_type": "display_data"
    }
   ],
   "source": [
    "import matplotlib.pyplot as plt\n",
    "  \n",
    "height = [189, 185, 195, 149, 189, 147, 154, \n",
    "          174, 169, 195, 159, 192, 155, 191, \n",
    "          153, 157, 140, 144, 172, 157, 181, \n",
    "          182, 166, 167]\n",
    "plt.hist(height, edgecolor=\"red\", bins=5)\n",
    "plt.show()"
   ]
  },
  {
   "cell_type": "markdown",
   "id": "3a7c2390",
   "metadata": {},
   "source": [
    "*To find the bin size there is some techniques\n",
    "1)Sturgis formula\n",
    "2)Freedman-Diaconis Rule"
   ]
  },
  {
   "cell_type": "markdown",
   "id": "0b10fb7e",
   "metadata": {},
   "source": [
    "### Sturgis formula "
   ]
  },
  {
   "cell_type": "code",
   "execution_count": 27,
   "id": "74acc9a9",
   "metadata": {},
   "outputs": [],
   "source": [
    "import numpy as np\n",
    "n=len(height)\n",
    "num_bins = int(1 + np.log2(n))"
   ]
  },
  {
   "cell_type": "code",
   "execution_count": 34,
   "id": "a41ff075",
   "metadata": {},
   "outputs": [
    {
     "data": {
      "image/png": "[encoded data removed]",
      "text/plain": [
       "<Figure size 432x288 with 1 Axes>"
      ]
     },
     "metadata": {
      "needs_background": "light"
     },
     "output_type": "display_data"
    }
   ],
   "source": [
    "import matplotlib.pyplot as plt\n",
    "import numpy as np\n",
    "  \n",
    "h= [87, 53, 66, 61, 67, 68, 62, 110,\n",
    "        104, 61, 111, 123, 117, 119, 116,\n",
    "        104, 92, 111, 90, 103, 81, 80, 101,\n",
    "        51, 79, 107, 110, 129, 145, 128, \n",
    "        132, 135, 131, 126, 139, 110]\n",
    "n=len(h)\n",
    "num_bins = int(1 + np.log2(n))\n",
    "plt.hist(data, bins=num_bins)\n",
    "  \n",
    "plt.show()"
   ]
  },
  {
   "cell_type": "markdown",
   "id": "e661086e",
   "metadata": {},
   "source": [
    "### Freedman-Diaconis Rule "
   ]
  },
  {
   "cell_type": "code",
   "execution_count": 38,
   "id": "55cb8698",
   "metadata": {},
   "outputs": [
    {
     "data": {
      "image/png": "[encoded data removed]",
      "text/plain": [
       "<Figure size 432x288 with 1 Axes>"
      ]
     },
     "metadata": {
      "needs_background": "light"
     },
     "output_type": "display_data"
    }
   ],
   "source": [
    "import matplotlib.pyplot as plt\n",
    "import numpy as np\n",
    "\n",
    "data = [87, 53, 66, 61, 67, 68, 62, 110,\n",
    "        104, 61, 111, 123, 117, 119, 116,\n",
    "        104, 92, 111, 90, 103, 81, 80, 101,\n",
    "        51, 79, 107, 110, 129, 145, 128, \n",
    "        132, 135, 131, 126, 139, 110,10]\n",
    "data = np.array(data)  # Convert your list of values to a NumPy array\n",
    "iqr = np.percentile(data, 75) - np.percentile(data, 25)\n",
    "bin_width = 2 * iqr / np.power(len(data), 1/3)\n",
    "num_bins = int((max(data) - min(data)) / bin_width)\n",
    "\n",
    "# Create and display the histogram\n",
    "plt.hist(data, edgecolor=\"red\", bins=num_bins)\n",
    "plt.xlabel('Value')\n",
    "plt.ylabel('Frequency')\n",
    "plt.title('Histogram')\n",
    "plt.show()\n"
   ]
  }
 ],
 "metadata": {
  "kernelspec": {
   "display_name": "Python 3 (ipykernel)",
   "language": "python",
   "name": "python3"
  },
  "language_info": {
   "codemirror_mode": {
    "name": "ipython",
    "version": 3
   },
   "file_extension": ".py",
   "mimetype": "text/x-python",
   "name": "python",
   "nbconvert_exporter": "python",
   "pygments_lexer": "ipython3",
   "version": "3.9.12"
  }
 },
 "nbformat": 4,
 "nbformat_minor": 5
}
