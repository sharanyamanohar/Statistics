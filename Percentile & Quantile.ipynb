{
 "cells": [
  {
   "cell_type": "markdown",
   "metadata": {},
   "source": [
    "## Percentile "
   ]
  },
  {
   "cell_type": "markdown",
   "metadata": {},
   "source": [
    "Percentile is a measure used to indicate the value below which is given percentage of observations fall"
   ]
  },
  {
   "cell_type": "code",
   "execution_count": 21,
   "metadata": {},
   "outputs": [
    {
     "name": "stdout",
     "output_type": "stream",
     "text": [
      "For what value u need to find percentile:88\n"
     ]
    },
    {
     "data": {
      "text/plain": [
       "60.0"
      ]
     },
     "execution_count": 21,
     "metadata": {},
     "output_type": "execute_result"
    }
   ],
   "source": [
    "values = [80, 70, 40, 90, 75, 82, 95, 91, 88, 84]\n",
    "values.sort()\n",
    "n=int(input(\"For what value u need to find percentile:\"))\n",
    "count = len([x for x in values if x < n])\n",
    "(count/len(values))*100"
   ]
  },
  {
   "cell_type": "markdown",
   "metadata": {},
   "source": [
    "Its says that 60 percentile of students got less than 88 and 40 percentile of students got more than 88"
   ]
  },
  {
   "cell_type": "markdown",
   "metadata": {},
   "source": [
    "## Quantile "
   ]
  },
  {
   "cell_type": "markdown",
   "metadata": {},
   "source": [
    "A quantile divides a sorted data set into 4 equal parts ,so that each part represent 1/4 of the data set"
   ]
  },
  {
   "cell_type": "code",
   "execution_count": 23,
   "metadata": {},
   "outputs": [
    {
     "name": "stdout",
     "output_type": "stream",
     "text": [
      "Q1 (25th percentile): 75\n",
      "Q2 (Median, 50th percentile): 84\n",
      "Q3 (75th percentile): 90\n"
     ]
    }
   ],
   "source": [
    "values = [80, 70, 40, 90, 75, 82, 95, 91, 88, 84]\n",
    "values.sort()\n",
    "\n",
    "# Calculate Q1 (25th percentile)\n",
    "q1= int(0.25 * len(values))\n",
    "q1_ = values[q1]\n",
    "\n",
    "# Calculate Q2 (50th percentile, which is also the median)\n",
    "q2= int(0.5 * len(values))\n",
    "q2_ = values[q2]\n",
    "\n",
    "# Calculate Q3 (75th percentile)\n",
    "q3 = int(0.75 * len(values))\n",
    "q3_ = values[q3]\n",
    "\n",
    "print(f\"Q1 (25th percentile): {q1_}\")\n",
    "print(f\"Q2 (Median, 50th percentile): {q2_}\")\n",
    "print(f\"Q3 (75th percentile): {q3_}\")\n"
   ]
  },
  {
   "cell_type": "markdown",
   "metadata": {},
   "source": [
    "25percentile -------> of all the data has the value less than 75\n",
    "50percentile -------> of all the data has the value less than 84\n",
    "75percentile -------> of all the data has the value less than 90"
   ]
  }
 ],
 "metadata": {
  "kernelspec": {
   "display_name": "Python 3",
   "language": "python",
   "name": "python3"
  },
  "language_info": {
   "codemirror_mode": {
    "name": "ipython",
    "version": 3
   },
   "file_extension": ".py",
   "mimetype": "text/x-python",
   "name": "python",
   "nbconvert_exporter": "python",
   "pygments_lexer": "ipython3",
   "version": "3.7.4"
  }
 },
 "nbformat": 4,
 "nbformat_minor": 2
}
