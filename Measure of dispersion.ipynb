{
 "cells": [
  {
   "cell_type": "code",
   "execution_count": null,
   "metadata": {},
   "outputs": [],
   "source": [
    "Standard deviation and variance are two statistical measures used to quantify the spread or dispersion of a set of data points."
   ]
  },
  {
   "cell_type": "markdown",
   "metadata": {},
   "source": [
    "## Standard Deviation"
   ]
  },
  {
   "cell_type": "markdown",
   "metadata": {},
   "source": [
    "Standard deviation is the most commonly used measure of variation, which describes how spread out the data is.\n",
    "The standard deviation is the square root of the variance. It is a more interpretable measure because it is in the same units as the original data. It quantifies the average amount by which each data point deviates from the mean."
   ]
  },
  {
   "cell_type": "code",
   "execution_count": 43,
   "metadata": {},
   "outputs": [
    {
     "name": "stdout",
     "output_type": "stream",
     "text": [
      "3.8078865529319543\n"
     ]
    }
   ],
   "source": [
    "import numpy\n",
    "\n",
    "values = [4,11,7,14]\n",
    "\n",
    "x = numpy.std(values)\n",
    "\n",
    "print(x)"
   ]
  },
  {
   "cell_type": "markdown",
   "metadata": {},
   "source": [
    "## Variance"
   ]
  },
  {
   "cell_type": "markdown",
   "metadata": {},
   "source": [
    "Variance measures how much the values in a dataset differ from the mean (average). A higher variance indicates that the data points are more spread out from the mean."
   ]
  },
  {
   "cell_type": "code",
   "execution_count": 44,
   "metadata": {},
   "outputs": [
    {
     "name": "stdout",
     "output_type": "stream",
     "text": [
      "Variance: 18.363636363636363\n",
      "Standard Deviation: 4.2852813634155185\n"
     ]
    }
   ],
   "source": [
    "import statistics\n",
    "\n",
    "values = [4, 7, 3, 8, 11, 7, 10, 19, 6, 9, 12, 12]\n",
    "\n",
    "# Calculate the variance\n",
    "variance = statistics.variance(values)\n",
    "\n",
    "# Calculate the standard deviation\n",
    "std_deviation = statistics.stdev(values)\n",
    "\n",
    "print(f\"Variance: {variance}\")\n",
    "print(f\"Standard Deviation: {std_deviation}\")\n"
   ]
  }
 ],
 "metadata": {
  "kernelspec": {
   "display_name": "Python 3",
   "language": "python",
   "name": "python3"
  },
  "language_info": {
   "codemirror_mode": {
    "name": "ipython",
    "version": 3
   },
   "file_extension": ".py",
   "mimetype": "text/x-python",
   "name": "python",
   "nbconvert_exporter": "python",
   "pygments_lexer": "ipython3",
   "version": "3.7.4"
  }
 },
 "nbformat": 4,
 "nbformat_minor": 2
}
