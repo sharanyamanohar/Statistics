{
 "cells": [
  {
   "cell_type": "markdown",
   "id": "247112b6",
   "metadata": {},
   "source": [
    "## What's z-score ?? "
   ]
  },
  {
   "cell_type": "markdown",
   "id": "e8951328",
   "metadata": {},
   "source": [
    "The z score tells you how many standard deviations from the mean your score is..\n",
    "Z-score, also known as standard score, is a statistical measure that quantifies the number of standard deviations a data point is from the mean of a dataset.\n",
    "\n",
    "1)If a Z-score is 0, it indicates that the data point's score is identical to the mean score.\n",
    "\n",
    "2)A Z-score of 1.0 would indicate a value that is one standard deviation from the mean.\n",
    "\n",
    "3)Z-scores may be positive or negative, with a positive value indicating the score is above the mean and a negative score indicating it is below the mean."
   ]
  },
  {
   "cell_type": "markdown",
   "id": "bd6d9190",
   "metadata": {},
   "source": [
    "## Formula"
   ]
  },
  {
   "cell_type": "markdown",
   "id": "e37623bb",
   "metadata": {},
   "source": [
    "The statistical formula for a value's z-score is calculated using the following formula:\n",
    "\n",
    "z = ( x - μ ) / σ\n",
    "Where:\n",
    "\n",
    "z = Z-score\n",
    "x = the value being evaluated\n",
    "μ = the mean\n",
    "σ = the standard deviation"
   ]
  },
  {
   "cell_type": "markdown",
   "id": "c2355b52",
   "metadata": {},
   "source": [
    "## Impact of z-score? "
   ]
  },
  {
   "cell_type": "markdown",
   "id": "f93d9f97",
   "metadata": {},
   "source": [
    "If z = 1.25\n",
    "\n",
    "So, your selected value has a z-score that indicates it is 1.25 standard deviations from the mean."
   ]
  },
  {
   "cell_type": "markdown",
   "id": "2aac3892",
   "metadata": {},
   "source": [
    "### Problems"
   ]
  },
  {
   "cell_type": "code",
   "execution_count": 3,
   "id": "c7341987",
   "metadata": {},
   "outputs": [
    {
     "name": "stdout",
     "output_type": "stream",
     "text": [
      "Z-score for 22 is 0.282842712474619\n"
     ]
    }
   ],
   "source": [
    "import numpy as np\n",
    "dataset = [10, 15, 20, 25, 30] \n",
    "mean = np.mean(dataset)\n",
    "std_dev = np.std(dataset)\n",
    "#if\n",
    "X = 22  \n",
    "\n",
    "Z = (X - mean) / std_dev\n",
    "\n",
    "print(f\"Z-score for {X} is {Z}\")\n"
   ]
  },
  {
   "cell_type": "markdown",
   "id": "51362859",
   "metadata": {},
   "source": [
    "#### By using z-score,what all problem get solved?"
   ]
  },
  {
   "cell_type": "markdown",
   "id": "db774e5f",
   "metadata": {},
   "source": [
    "1)By usig z-score we can normalize or standardize data.\n",
    "\n",
    "2)For outlier detection-(Z>3 or Z<−3) if it is greater or less than threshold then its treated as outliers\n",
    "\n",
    "3)Comparison of Data Points.\n",
    "\n",
    "4)Data Transformations.\n",
    "\n",
    "5)Hypothesis testing"
   ]
  },
  {
   "cell_type": "markdown",
   "id": "48d07aac",
   "metadata": {},
   "source": [
    "## Applications "
   ]
  },
  {
   "cell_type": "markdown",
   "id": "739de5dc",
   "metadata": {},
   "source": [
    "The Z-score is used to calculate the likelihood that a business will go bankrupt in the next two years, while the Z-score can be used to determine how far a stock's return differs from it's average return—and much more."
   ]
  }
 ],
 "metadata": {
  "kernelspec": {
   "display_name": "Python 3 (ipykernel)",
   "language": "python",
   "name": "python3"
  },
  "language_info": {
   "codemirror_mode": {
    "name": "ipython",
    "version": 3
   },
   "file_extension": ".py",
   "mimetype": "text/x-python",
   "name": "python",
   "nbconvert_exporter": "python",
   "pygments_lexer": "ipython3",
   "version": "3.9.12"
  }
 },
 "nbformat": 4,
 "nbformat_minor": 5
}
