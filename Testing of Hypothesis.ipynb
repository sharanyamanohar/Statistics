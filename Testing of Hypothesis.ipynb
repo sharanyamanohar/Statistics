{
 "cells": [
  {
   "cell_type": "markdown",
   "id": "da686457",
   "metadata": {},
   "source": [
    "A statistical Hypothesis test ia a method of statistical inference used to decide whether the data at hand sufficiently support a particular hypothesis.Hyposthesis testing allows us to make probabilistic statements about population parameter"
   ]
  },
  {
   "cell_type": "markdown",
   "id": "46056959",
   "metadata": {},
   "source": [
    "## Parametres of Hyposthesis testing "
   ]
  },
  {
   "cell_type": "markdown",
   "id": "6061cc1f",
   "metadata": {},
   "source": [
    "Null Hyposthesis(Ho)-The null hypothesis is a statement that assumes there is no significant effect or relationship between the variables.\n",
    "\n",
    "Alternate Hyposthesis(H1)-The alternate hyposthesis is a statement that contradicts the null hypothesis and claims there is a significant effect on relationship between the variables.\n",
    "\n",
    "Level of significance(\\alpha )-Its a degree of significance in which we accept or reject the null hypothesis.100% accuracy is not possible for accepting a hypothesis,generally, it is 0.05 or 5%, which means your output should be 95% confident to give a similar kind of result in each sample.\n",
    "\n",
    "p-value-It gives a strength of particular value, i.e. accept that your sample claims to support the alternative hypothesis"
   ]
  },
  {
   "cell_type": "markdown",
   "id": "810bf94a",
   "metadata": {},
   "source": [
    "## Types of Hypothesis: "
   ]
  },
  {
   "cell_type": "code",
   "execution_count": 1,
   "id": "77cccbb9",
   "metadata": {},
   "outputs": [
    {
     "name": "stdout",
     "output_type": "stream",
     "text": [
      "Z-statistic: 0.7952188685286633\n",
      "P-value: 0.42648619784131947\n",
      "Fail to reject the null hypothesis\n"
     ]
    }
   ],
   "source": [
    "#z-test\n",
    "import numpy as np\n",
    "from scipy.stats import norm\n",
    "np.random.seed(42)\n",
    "\n",
    "sample_size = 30\n",
    "sample_mean = 105\n",
    "population_mean = 100\n",
    "population_stddev = 15\n",
    "\n",
    "sample_data = np.random.normal(loc=sample_mean, scale=population_stddev, size=sample_size)\n",
    "#Its 1-sample z test\n",
    "z_stat = (np.mean(sample_data) - population_mean) / (population_stddev / np.sqrt(sample_size))\n",
    "p_value = 2 * (1 - norm.cdf(np.abs(z_stat))) \n",
    "\n",
    "print(f'Z-statistic: {z_stat}')\n",
    "print(f'P-value: {p_value}')\n",
    "\n",
    "if p_value < 0.05:\n",
    "    print('Reject the null hypothesis')\n",
    "else:\n",
    "    print('Fail to reject the null hypothesis')"
   ]
  },
  {
   "cell_type": "code",
   "execution_count": 5,
   "id": "e6278b5e",
   "metadata": {},
   "outputs": [
    {
     "name": "stdout",
     "output_type": "stream",
     "text": [
      "T-statistic: -3.9843138079650484\n",
      "P-value: 0.00020789282173085762\n",
      "Reject the null hypothesis (there is a significant difference)\n"
     ]
    }
   ],
   "source": [
    "#t-test\n",
    "import numpy as np\n",
    "from scipy.stats import ttest_ind\n",
    "np.random.seed(42)\n",
    "\n",
    "# Generating two samples with different means\n",
    "sample_size_1 = 30\n",
    "sample_size_2 = 25\n",
    "\n",
    "sample_mean_1 = 10\n",
    "sample_stddev_1 = 2\n",
    "sample_data_1 = np.random.normal(loc=sample_mean_1, scale=sample_stddev_1, size=sample_size_1)\n",
    "\n",
    "sample_mean_2 = 12\n",
    "sample_stddev_2 = 2\n",
    "sample_data_2 = np.random.normal(loc=sample_mean_2, scale=sample_stddev_2, size=sample_size_2)\n",
    "\n",
    "# Perform two-sample t-test\n",
    "t_stat, p_value = ttest_ind(sample_data_1, sample_data_2)\n",
    "\n",
    "print(f'T-statistic: {t_stat}')\n",
    "print(f'P-value: {p_value}')\n",
    "\n",
    "if p_value < 0.05:\n",
    "    print('Reject the null hypothesis (there is a significant difference)')\n",
    "else:\n",
    "    print('Fail to reject the null hypothesis (there is no significant difference)')\n"
   ]
  },
  {
   "cell_type": "code",
   "execution_count": 6,
   "id": "46ee4b9a",
   "metadata": {},
   "outputs": [
    {
     "name": "stdout",
     "output_type": "stream",
     "text": [
      "Chi-squared statistic: 7.919191919191919\n",
      "P-value: 0.004891311452359333\n",
      "Degrees of freedom: 1\n",
      "Expected frequencies:\n",
      "[[22.5 27.5]\n",
      " [22.5 27.5]]\n",
      "Reject the null hypothesis (there is a significant association)\n"
     ]
    }
   ],
   "source": [
    "#chi-squared test\n",
    "\n",
    "import numpy as np\n",
    "from scipy.stats import chi2_contingency\n",
    "\n",
    "observed_data = np.array([[30, 20], [15, 35]])\n",
    "\n",
    "chi2_stat, p_value, dof, expected = chi2_contingency(observed_data)\n",
    "\n",
    "print(f'Chi-squared statistic: {chi2_stat}')\n",
    "print(f'P-value: {p_value}')\n",
    "print(f'Degrees of freedom: {dof}')\n",
    "print('Expected frequencies:')\n",
    "print(expected)\n",
    "\n",
    "if p_value < 0.05:\n",
    "    print('Reject the null hypothesis (there is a significant association)')\n",
    "else:\n",
    "    print('Fail to reject the null hypothesis (there is no significant association)')"
   ]
  },
  {
   "cell_type": "code",
   "execution_count": 7,
   "id": "3931d822",
   "metadata": {},
   "outputs": [
    {
     "name": "stdout",
     "output_type": "stream",
     "text": [
      "F-statistic: 0.031935291582844645\n",
      "P-value: 0.8588511234502944\n",
      "Fail to reject the null hypothesis (there is no significant difference in variances)\n"
     ]
    }
   ],
   "source": [
    "#f-test\n",
    "import numpy as np\n",
    "from scipy.stats import f_oneway\n",
    "np.random.seed(42)\n",
    "\n",
    "# Generate two samples with different variances\n",
    "sample_size_1 = 30\n",
    "sample_size_2 = 25\n",
    "\n",
    "sample_var_1 = 5\n",
    "sample_data_1 = np.random.normal(loc=10, scale=np.sqrt(sample_var_1), size=sample_size_1)\n",
    "\n",
    "sample_var_2 = 8\n",
    "sample_data_2 = np.random.normal(loc=10, scale=np.sqrt(sample_var_2), size=sample_size_2)\n",
    "\n",
    "f_stat, p_value = f_oneway(sample_data_1, sample_data_2)\n",
    "\n",
    "print(f'F-statistic: {f_stat}')\n",
    "print(f'P-value: {p_value}')\n",
    "\n",
    "if p_value < 0.05:\n",
    "    print('Reject the null hypothesis (there is a significant difference in variances)')\n",
    "else:\n",
    "    print('Fail to reject the null hypothesis (there is no significant difference in variances)')\n"
   ]
  }
 ],
 "metadata": {
  "kernelspec": {
   "display_name": "Python 3 (ipykernel)",
   "language": "python",
   "name": "python3"
  },
  "language_info": {
   "codemirror_mode": {
    "name": "ipython",
    "version": 3
   },
   "file_extension": ".py",
   "mimetype": "text/x-python",
   "name": "python",
   "nbconvert_exporter": "python",
   "pygments_lexer": "ipython3",
   "version": "3.9.12"
  }
 },
 "nbformat": 4,
 "nbformat_minor": 5
}
